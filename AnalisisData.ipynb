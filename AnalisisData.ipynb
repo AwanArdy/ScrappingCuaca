{
  "cells": [
    {
      "cell_type": "code",
      "execution_count": 373,
      "metadata": {
        "id": "pUvxhtrug3IT"
      },
      "outputs": [],
      "source": [
        "import pandas as pd\n",
        "import numpy as np\n",
        "import matplotlib.pyplot as plt\n",
        "import plotly.express as px\n",
        "import seaborn as sns"
      ]
    },
    {
      "cell_type": "code",
      "execution_count": 374,
      "metadata": {
        "colab": {
          "base_uri": "https://localhost:8080/",
          "height": 677
        },
        "id": "dWTO-DWDg3IW",
        "outputId": "125cce4b-7cdc-4ec0-df6a-625cfa79abbb"
      },
      "outputs": [
        {
          "data": {
            "text/html": [
              "<div>\n",
              "<style scoped>\n",
              "    .dataframe tbody tr th:only-of-type {\n",
              "        vertical-align: middle;\n",
              "    }\n",
              "\n",
              "    .dataframe tbody tr th {\n",
              "        vertical-align: top;\n",
              "    }\n",
              "\n",
              "    .dataframe thead th {\n",
              "        text-align: right;\n",
              "    }\n",
              "</style>\n",
              "<table border=\"1\" class=\"dataframe\">\n",
              "  <thead>\n",
              "    <tr style=\"text-align: right;\">\n",
              "      <th></th>\n",
              "      <th>area_id</th>\n",
              "      <th>area_name</th>\n",
              "      <th>latitude</th>\n",
              "      <th>longitude</th>\n",
              "      <th>parameter_id</th>\n",
              "      <th>parameter_description</th>\n",
              "      <th>datetime</th>\n",
              "      <th>value_type</th>\n",
              "      <th>value_text</th>\n",
              "    </tr>\n",
              "  </thead>\n",
              "  <tbody>\n",
              "    <tr>\n",
              "      <th>0</th>\n",
              "      <td>501272</td>\n",
              "      <td>Bangkalan</td>\n",
              "      <td>-7.033333</td>\n",
              "      <td>112.7667</td>\n",
              "      <td>hu</td>\n",
              "      <td>Humidity</td>\n",
              "      <td>202406270000</td>\n",
              "      <td>NaN</td>\n",
              "      <td>90</td>\n",
              "    </tr>\n",
              "    <tr>\n",
              "      <th>1</th>\n",
              "      <td>501272</td>\n",
              "      <td>Bangkalan</td>\n",
              "      <td>-7.033333</td>\n",
              "      <td>112.7667</td>\n",
              "      <td>hu</td>\n",
              "      <td>Humidity</td>\n",
              "      <td>202406270600</td>\n",
              "      <td>NaN</td>\n",
              "      <td>70</td>\n",
              "    </tr>\n",
              "    <tr>\n",
              "      <th>2</th>\n",
              "      <td>501272</td>\n",
              "      <td>Bangkalan</td>\n",
              "      <td>-7.033333</td>\n",
              "      <td>112.7667</td>\n",
              "      <td>hu</td>\n",
              "      <td>Humidity</td>\n",
              "      <td>202406271200</td>\n",
              "      <td>NaN</td>\n",
              "      <td>85</td>\n",
              "    </tr>\n",
              "    <tr>\n",
              "      <th>3</th>\n",
              "      <td>501272</td>\n",
              "      <td>Bangkalan</td>\n",
              "      <td>-7.033333</td>\n",
              "      <td>112.7667</td>\n",
              "      <td>hu</td>\n",
              "      <td>Humidity</td>\n",
              "      <td>202406271800</td>\n",
              "      <td>NaN</td>\n",
              "      <td>90</td>\n",
              "    </tr>\n",
              "    <tr>\n",
              "      <th>4</th>\n",
              "      <td>501272</td>\n",
              "      <td>Bangkalan</td>\n",
              "      <td>-7.033333</td>\n",
              "      <td>112.7667</td>\n",
              "      <td>hu</td>\n",
              "      <td>Humidity</td>\n",
              "      <td>202406280000</td>\n",
              "      <td>NaN</td>\n",
              "      <td>70</td>\n",
              "    </tr>\n",
              "    <tr>\n",
              "      <th>5</th>\n",
              "      <td>501272</td>\n",
              "      <td>Bangkalan</td>\n",
              "      <td>-7.033333</td>\n",
              "      <td>112.7667</td>\n",
              "      <td>hu</td>\n",
              "      <td>Humidity</td>\n",
              "      <td>202406280600</td>\n",
              "      <td>NaN</td>\n",
              "      <td>55</td>\n",
              "    </tr>\n",
              "    <tr>\n",
              "      <th>6</th>\n",
              "      <td>501272</td>\n",
              "      <td>Bangkalan</td>\n",
              "      <td>-7.033333</td>\n",
              "      <td>112.7667</td>\n",
              "      <td>hu</td>\n",
              "      <td>Humidity</td>\n",
              "      <td>202406281200</td>\n",
              "      <td>NaN</td>\n",
              "      <td>80</td>\n",
              "    </tr>\n",
              "    <tr>\n",
              "      <th>7</th>\n",
              "      <td>501272</td>\n",
              "      <td>Bangkalan</td>\n",
              "      <td>-7.033333</td>\n",
              "      <td>112.7667</td>\n",
              "      <td>hu</td>\n",
              "      <td>Humidity</td>\n",
              "      <td>202406281800</td>\n",
              "      <td>NaN</td>\n",
              "      <td>90</td>\n",
              "    </tr>\n",
              "    <tr>\n",
              "      <th>8</th>\n",
              "      <td>501272</td>\n",
              "      <td>Bangkalan</td>\n",
              "      <td>-7.033333</td>\n",
              "      <td>112.7667</td>\n",
              "      <td>hu</td>\n",
              "      <td>Humidity</td>\n",
              "      <td>202406290000</td>\n",
              "      <td>NaN</td>\n",
              "      <td>80</td>\n",
              "    </tr>\n",
              "    <tr>\n",
              "      <th>9</th>\n",
              "      <td>501272</td>\n",
              "      <td>Bangkalan</td>\n",
              "      <td>-7.033333</td>\n",
              "      <td>112.7667</td>\n",
              "      <td>hu</td>\n",
              "      <td>Humidity</td>\n",
              "      <td>202406290600</td>\n",
              "      <td>NaN</td>\n",
              "      <td>55</td>\n",
              "    </tr>\n",
              "    <tr>\n",
              "      <th>10</th>\n",
              "      <td>501272</td>\n",
              "      <td>Bangkalan</td>\n",
              "      <td>-7.033333</td>\n",
              "      <td>112.7667</td>\n",
              "      <td>hu</td>\n",
              "      <td>Humidity</td>\n",
              "      <td>202406291200</td>\n",
              "      <td>NaN</td>\n",
              "      <td>75</td>\n",
              "    </tr>\n",
              "    <tr>\n",
              "      <th>11</th>\n",
              "      <td>501272</td>\n",
              "      <td>Bangkalan</td>\n",
              "      <td>-7.033333</td>\n",
              "      <td>112.7667</td>\n",
              "      <td>hu</td>\n",
              "      <td>Humidity</td>\n",
              "      <td>202406291800</td>\n",
              "      <td>NaN</td>\n",
              "      <td>90</td>\n",
              "    </tr>\n",
              "    <tr>\n",
              "      <th>12</th>\n",
              "      <td>501272</td>\n",
              "      <td>Bangkalan</td>\n",
              "      <td>-7.033333</td>\n",
              "      <td>112.7667</td>\n",
              "      <td>humax</td>\n",
              "      <td>Max humidity</td>\n",
              "      <td>202406271200</td>\n",
              "      <td>NaN</td>\n",
              "      <td>90</td>\n",
              "    </tr>\n",
              "    <tr>\n",
              "      <th>13</th>\n",
              "      <td>501272</td>\n",
              "      <td>Bangkalan</td>\n",
              "      <td>-7.033333</td>\n",
              "      <td>112.7667</td>\n",
              "      <td>humax</td>\n",
              "      <td>Max humidity</td>\n",
              "      <td>202406281200</td>\n",
              "      <td>NaN</td>\n",
              "      <td>95</td>\n",
              "    </tr>\n",
              "    <tr>\n",
              "      <th>14</th>\n",
              "      <td>501272</td>\n",
              "      <td>Bangkalan</td>\n",
              "      <td>-7.033333</td>\n",
              "      <td>112.7667</td>\n",
              "      <td>humax</td>\n",
              "      <td>Max humidity</td>\n",
              "      <td>202406291200</td>\n",
              "      <td>NaN</td>\n",
              "      <td>90</td>\n",
              "    </tr>\n",
              "    <tr>\n",
              "      <th>15</th>\n",
              "      <td>501272</td>\n",
              "      <td>Bangkalan</td>\n",
              "      <td>-7.033333</td>\n",
              "      <td>112.7667</td>\n",
              "      <td>tmax</td>\n",
              "      <td>Max temperature</td>\n",
              "      <td>202406271200</td>\n",
              "      <td>NaN</td>\n",
              "      <td>31</td>\n",
              "    </tr>\n",
              "    <tr>\n",
              "      <th>16</th>\n",
              "      <td>501272</td>\n",
              "      <td>Bangkalan</td>\n",
              "      <td>-7.033333</td>\n",
              "      <td>112.7667</td>\n",
              "      <td>tmax</td>\n",
              "      <td>Max temperature</td>\n",
              "      <td>202406271200</td>\n",
              "      <td>NaN</td>\n",
              "      <td>87.8</td>\n",
              "    </tr>\n",
              "    <tr>\n",
              "      <th>17</th>\n",
              "      <td>501272</td>\n",
              "      <td>Bangkalan</td>\n",
              "      <td>-7.033333</td>\n",
              "      <td>112.7667</td>\n",
              "      <td>tmax</td>\n",
              "      <td>Max temperature</td>\n",
              "      <td>202406281200</td>\n",
              "      <td>NaN</td>\n",
              "      <td>33</td>\n",
              "    </tr>\n",
              "    <tr>\n",
              "      <th>18</th>\n",
              "      <td>501272</td>\n",
              "      <td>Bangkalan</td>\n",
              "      <td>-7.033333</td>\n",
              "      <td>112.7667</td>\n",
              "      <td>tmax</td>\n",
              "      <td>Max temperature</td>\n",
              "      <td>202406281200</td>\n",
              "      <td>NaN</td>\n",
              "      <td>91.4</td>\n",
              "    </tr>\n",
              "    <tr>\n",
              "      <th>19</th>\n",
              "      <td>501272</td>\n",
              "      <td>Bangkalan</td>\n",
              "      <td>-7.033333</td>\n",
              "      <td>112.7667</td>\n",
              "      <td>tmax</td>\n",
              "      <td>Max temperature</td>\n",
              "      <td>202406291200</td>\n",
              "      <td>NaN</td>\n",
              "      <td>33</td>\n",
              "    </tr>\n",
              "  </tbody>\n",
              "</table>\n",
              "</div>"
            ],
            "text/plain": [
              "    area_id  area_name  latitude  longitude parameter_id  \\\n",
              "0    501272  Bangkalan -7.033333   112.7667           hu   \n",
              "1    501272  Bangkalan -7.033333   112.7667           hu   \n",
              "2    501272  Bangkalan -7.033333   112.7667           hu   \n",
              "3    501272  Bangkalan -7.033333   112.7667           hu   \n",
              "4    501272  Bangkalan -7.033333   112.7667           hu   \n",
              "5    501272  Bangkalan -7.033333   112.7667           hu   \n",
              "6    501272  Bangkalan -7.033333   112.7667           hu   \n",
              "7    501272  Bangkalan -7.033333   112.7667           hu   \n",
              "8    501272  Bangkalan -7.033333   112.7667           hu   \n",
              "9    501272  Bangkalan -7.033333   112.7667           hu   \n",
              "10   501272  Bangkalan -7.033333   112.7667           hu   \n",
              "11   501272  Bangkalan -7.033333   112.7667           hu   \n",
              "12   501272  Bangkalan -7.033333   112.7667        humax   \n",
              "13   501272  Bangkalan -7.033333   112.7667        humax   \n",
              "14   501272  Bangkalan -7.033333   112.7667        humax   \n",
              "15   501272  Bangkalan -7.033333   112.7667         tmax   \n",
              "16   501272  Bangkalan -7.033333   112.7667         tmax   \n",
              "17   501272  Bangkalan -7.033333   112.7667         tmax   \n",
              "18   501272  Bangkalan -7.033333   112.7667         tmax   \n",
              "19   501272  Bangkalan -7.033333   112.7667         tmax   \n",
              "\n",
              "   parameter_description      datetime  value_type value_text  \n",
              "0               Humidity  202406270000         NaN         90  \n",
              "1               Humidity  202406270600         NaN         70  \n",
              "2               Humidity  202406271200         NaN         85  \n",
              "3               Humidity  202406271800         NaN         90  \n",
              "4               Humidity  202406280000         NaN         70  \n",
              "5               Humidity  202406280600         NaN         55  \n",
              "6               Humidity  202406281200         NaN         80  \n",
              "7               Humidity  202406281800         NaN         90  \n",
              "8               Humidity  202406290000         NaN         80  \n",
              "9               Humidity  202406290600         NaN         55  \n",
              "10              Humidity  202406291200         NaN         75  \n",
              "11              Humidity  202406291800         NaN         90  \n",
              "12          Max humidity  202406271200         NaN         90  \n",
              "13          Max humidity  202406281200         NaN         95  \n",
              "14          Max humidity  202406291200         NaN         90  \n",
              "15       Max temperature  202406271200         NaN         31  \n",
              "16       Max temperature  202406271200         NaN       87.8  \n",
              "17       Max temperature  202406281200         NaN         33  \n",
              "18       Max temperature  202406281200         NaN       91.4  \n",
              "19       Max temperature  202406291200         NaN         33  "
            ]
          },
          "execution_count": 374,
          "metadata": {},
          "output_type": "execute_result"
        }
      ],
      "source": [
        "df_weather = pd.read_csv(\"prakiraan_cuaca_jawa_timur.csv\")\n",
        "df_weather.head(20)"
      ]
    },
    {
      "cell_type": "code",
      "execution_count": 375,
      "metadata": {
        "colab": {
          "base_uri": "https://localhost:8080/"
        },
        "id": "lhH5Um5Ug3IZ",
        "outputId": "5ce1cb07-5f86-4824-d47c-a24019db32b2"
      },
      "outputs": [
        {
          "name": "stdout",
          "output_type": "stream",
          "text": [
            "<class 'pandas.core.frame.DataFrame'>\n",
            "RangeIndex: 5700 entries, 0 to 5699\n",
            "Data columns (total 9 columns):\n",
            " #   Column                 Non-Null Count  Dtype  \n",
            "---  ------                 --------------  -----  \n",
            " 0   area_id                5700 non-null   int64  \n",
            " 1   area_name              5700 non-null   object \n",
            " 2   latitude               5700 non-null   float64\n",
            " 3   longitude              5700 non-null   float64\n",
            " 4   parameter_id           5700 non-null   object \n",
            " 5   parameter_description  5700 non-null   object \n",
            " 6   datetime               5700 non-null   int64  \n",
            " 7   value_type             0 non-null      float64\n",
            " 8   value_text             5700 non-null   object \n",
            "dtypes: float64(3), int64(2), object(4)\n",
            "memory usage: 400.9+ KB\n"
          ]
        }
      ],
      "source": [
        "df_weather.info()"
      ]
    },
    {
      "cell_type": "code",
      "execution_count": 376,
      "metadata": {
        "colab": {
          "base_uri": "https://localhost:8080/",
          "height": 300
        },
        "id": "yxRGJ-rdg3Ib",
        "outputId": "b42d4d47-984a-4c13-aaf8-8e8888b56cb9"
      },
      "outputs": [
        {
          "data": {
            "text/html": [
              "<div>\n",
              "<style scoped>\n",
              "    .dataframe tbody tr th:only-of-type {\n",
              "        vertical-align: middle;\n",
              "    }\n",
              "\n",
              "    .dataframe tbody tr th {\n",
              "        vertical-align: top;\n",
              "    }\n",
              "\n",
              "    .dataframe thead th {\n",
              "        text-align: right;\n",
              "    }\n",
              "</style>\n",
              "<table border=\"1\" class=\"dataframe\">\n",
              "  <thead>\n",
              "    <tr style=\"text-align: right;\">\n",
              "      <th></th>\n",
              "      <th>area_id</th>\n",
              "      <th>latitude</th>\n",
              "      <th>longitude</th>\n",
              "      <th>datetime</th>\n",
              "      <th>value_type</th>\n",
              "    </tr>\n",
              "  </thead>\n",
              "  <tbody>\n",
              "    <tr>\n",
              "      <th>count</th>\n",
              "      <td>5.700000e+03</td>\n",
              "      <td>5700.000000</td>\n",
              "      <td>5700.000000</td>\n",
              "      <td>5.700000e+03</td>\n",
              "      <td>0.0</td>\n",
              "    </tr>\n",
              "    <tr>\n",
              "      <th>mean</th>\n",
              "      <td>1.093525e+06</td>\n",
              "      <td>-7.661094</td>\n",
              "      <td>112.543387</td>\n",
              "      <td>2.024063e+11</td>\n",
              "      <td>NaN</td>\n",
              "    </tr>\n",
              "    <tr>\n",
              "      <th>std</th>\n",
              "      <td>1.521611e+06</td>\n",
              "      <td>0.376028</td>\n",
              "      <td>0.793082</td>\n",
              "      <td>8.190479e+03</td>\n",
              "      <td>NaN</td>\n",
              "    </tr>\n",
              "    <tr>\n",
              "      <th>min</th>\n",
              "      <td>5.012720e+05</td>\n",
              "      <td>-8.216667</td>\n",
              "      <td>111.090789</td>\n",
              "      <td>2.024063e+11</td>\n",
              "      <td>NaN</td>\n",
              "    </tr>\n",
              "    <tr>\n",
              "      <th>25%</th>\n",
              "      <td>5.012820e+05</td>\n",
              "      <td>-7.976490</td>\n",
              "      <td>111.915870</td>\n",
              "      <td>2.024063e+11</td>\n",
              "      <td>NaN</td>\n",
              "    </tr>\n",
              "    <tr>\n",
              "      <th>50%</th>\n",
              "      <td>5.012935e+05</td>\n",
              "      <td>-7.672265</td>\n",
              "      <td>112.521041</td>\n",
              "      <td>2.024063e+11</td>\n",
              "      <td>NaN</td>\n",
              "    </tr>\n",
              "    <tr>\n",
              "      <th>75%</th>\n",
              "      <td>5.013050e+05</td>\n",
              "      <td>-7.400000</td>\n",
              "      <td>113.209050</td>\n",
              "      <td>2.024063e+11</td>\n",
              "      <td>NaN</td>\n",
              "    </tr>\n",
              "    <tr>\n",
              "      <th>max</th>\n",
              "      <td>5.002272e+06</td>\n",
              "      <td>-6.900000</td>\n",
              "      <td>114.350000</td>\n",
              "      <td>2.024063e+11</td>\n",
              "      <td>NaN</td>\n",
              "    </tr>\n",
              "  </tbody>\n",
              "</table>\n",
              "</div>"
            ],
            "text/plain": [
              "            area_id     latitude    longitude      datetime  value_type\n",
              "count  5.700000e+03  5700.000000  5700.000000  5.700000e+03         0.0\n",
              "mean   1.093525e+06    -7.661094   112.543387  2.024063e+11         NaN\n",
              "std    1.521611e+06     0.376028     0.793082  8.190479e+03         NaN\n",
              "min    5.012720e+05    -8.216667   111.090789  2.024063e+11         NaN\n",
              "25%    5.012820e+05    -7.976490   111.915870  2.024063e+11         NaN\n",
              "50%    5.012935e+05    -7.672265   112.521041  2.024063e+11         NaN\n",
              "75%    5.013050e+05    -7.400000   113.209050  2.024063e+11         NaN\n",
              "max    5.002272e+06    -6.900000   114.350000  2.024063e+11         NaN"
            ]
          },
          "execution_count": 376,
          "metadata": {},
          "output_type": "execute_result"
        }
      ],
      "source": [
        "df_weather.describe()"
      ]
    },
    {
      "cell_type": "code",
      "execution_count": 377,
      "metadata": {
        "colab": {
          "base_uri": "https://localhost:8080/"
        },
        "id": "d07R_izmg3Ic",
        "outputId": "7773f0cc-854b-41e6-c7d8-6ed6ea32ead4"
      },
      "outputs": [
        {
          "data": {
            "text/plain": [
              "area_id                  5700\n",
              "area_name                5700\n",
              "latitude                 5700\n",
              "longitude                5700\n",
              "parameter_id             5700\n",
              "parameter_description    5700\n",
              "datetime                 5700\n",
              "value_type                  0\n",
              "value_text               5700\n",
              "dtype: int64"
            ]
          },
          "execution_count": 377,
          "metadata": {},
          "output_type": "execute_result"
        }
      ],
      "source": [
        "df_weather.count()"
      ]
    },
    {
      "cell_type": "code",
      "execution_count": 378,
      "metadata": {
        "colab": {
          "base_uri": "https://localhost:8080/"
        },
        "id": "qvBi2l6Eg3Id",
        "outputId": "70c39e0e-0540-423c-b331-c8fdc6130346"
      },
      "outputs": [
        {
          "data": {
            "text/plain": [
              "array(['Bangkalan', 'Banyuwangi', 'Batu', 'Bojonegoro', 'Bondowoso',\n",
              "       'Gresik', 'Jember', 'Jombang', 'Kabupaten Blitar',\n",
              "       'Kabupaten Kediri', 'Kabupaten Madiun', 'Kabupaten Malang',\n",
              "       'Kabupaten Mojokerto', 'Kabupaten Pasuruan',\n",
              "       'Kabupaten Probolinggo', 'Kota Blitar', 'Kota Kediri',\n",
              "       'Kota Madiun', 'Kota Malang', 'Kota Mojokerto', 'Kota Pasuruan',\n",
              "       'Kota Probolinggo', 'Lamongan', 'Lumajang', 'Magetan', 'Nganjuk',\n",
              "       'Ngawi', 'Pacitan', 'Pamekasan', 'Ponorogo', 'Sampang', 'Sidoarjo',\n",
              "       'Situbondo', 'Sumenep', 'Surabaya', 'Trenggalek', 'Tuban',\n",
              "       'Tulungagung'], dtype=object)"
            ]
          },
          "execution_count": 378,
          "metadata": {},
          "output_type": "execute_result"
        }
      ],
      "source": [
        "df_weather['area_name'].unique()"
      ]
    },
    {
      "cell_type": "code",
      "execution_count": 379,
      "metadata": {
        "colab": {
          "base_uri": "https://localhost:8080/"
        },
        "id": "7F06jMWzg3Id",
        "outputId": "9986f4d6-da4b-4326-8bc7-41c400710e28"
      },
      "outputs": [
        {
          "data": {
            "text/plain": [
              "array(['hu', 'humax', 'tmax', 'humin', 'tmin', 't', 'weather', 'wd', 'ws'],\n",
              "      dtype=object)"
            ]
          },
          "execution_count": 379,
          "metadata": {},
          "output_type": "execute_result"
        }
      ],
      "source": [
        "df_weather['parameter_id'].unique()"
      ]
    },
    {
      "cell_type": "code",
      "execution_count": 380,
      "metadata": {
        "colab": {
          "base_uri": "https://localhost:8080/"
        },
        "id": "G-eJSddlg3Id",
        "outputId": "83593b15-fd24-4a20-a8b9-f9d2a94a526b"
      },
      "outputs": [
        {
          "data": {
            "text/plain": [
              "array(['Humidity', 'Max humidity', 'Max temperature', 'Min humidity',\n",
              "       'Min temperature', 'Temperature', 'Weather', 'Wind direction',\n",
              "       'Wind speed'], dtype=object)"
            ]
          },
          "execution_count": 380,
          "metadata": {},
          "output_type": "execute_result"
        }
      ],
      "source": [
        "df_weather['parameter_description'].unique()"
      ]
    },
    {
      "cell_type": "code",
      "execution_count": 381,
      "metadata": {},
      "outputs": [
        {
          "data": {
            "text/plain": [
              "parameter_description\n",
              "Wind speed         1824\n",
              "Wind direction     1368\n",
              "Temperature         912\n",
              "Humidity            456\n",
              "Weather             456\n",
              "Max temperature     228\n",
              "Min temperature     228\n",
              "Max humidity        114\n",
              "Min humidity        114\n",
              "Name: count, dtype: int64"
            ]
          },
          "execution_count": 381,
          "metadata": {},
          "output_type": "execute_result"
        }
      ],
      "source": [
        "df_weather['parameter_description'].value_counts()"
      ]
    },
    {
      "cell_type": "code",
      "execution_count": 382,
      "metadata": {
        "colab": {
          "base_uri": "https://localhost:8080/"
        },
        "id": "dMivP-Uwg3Ie",
        "outputId": "752e23a1-3cba-40b1-ca74-08c012ccda87"
      },
      "outputs": [
        {
          "data": {
            "text/plain": [
              "value_text\n",
              "11230    274\n",
              "ESE      274\n",
              "112.5    274\n",
              "1        249\n",
              "90       215\n",
              "        ... \n",
              "62.6       1\n",
              "59         1\n",
              "18         1\n",
              "64.4       1\n",
              "4500       1\n",
              "Name: count, Length: 114, dtype: int64"
            ]
          },
          "execution_count": 382,
          "metadata": {},
          "output_type": "execute_result"
        }
      ],
      "source": [
        "df_weather['value_text'].value_counts()"
      ]
    },
    {
      "cell_type": "code",
      "execution_count": 383,
      "metadata": {},
      "outputs": [],
      "source": [
        "df_weather['datetime'] = pd.to_datetime(df_weather['datetime'], format='%Y%m%d%H%M')"
      ]
    },
    {
      "cell_type": "code",
      "execution_count": 384,
      "metadata": {
        "colab": {
          "base_uri": "https://localhost:8080/"
        },
        "id": "8xPFgI0bg3Ie",
        "outputId": "37d78d3f-f68b-4818-9128-2d465ff01385"
      },
      "outputs": [
        {
          "data": {
            "text/plain": [
              "value_text\n",
              "11230    274\n",
              "ESE      274\n",
              "112.5    274\n",
              "1        249\n",
              "90       215\n",
              "        ... \n",
              "62.6       1\n",
              "59         1\n",
              "18         1\n",
              "64.4       1\n",
              "4500       1\n",
              "Name: count, Length: 114, dtype: int64"
            ]
          },
          "execution_count": 384,
          "metadata": {},
          "output_type": "execute_result"
        }
      ],
      "source": [
        "df_weather['value_text'].value_counts()"
      ]
    },
    {
      "cell_type": "code",
      "execution_count": 385,
      "metadata": {
        "id": "XNRzB1Yeg3Ie"
      },
      "outputs": [
        {
          "data": {
            "text/html": [
              "<div>\n",
              "<style scoped>\n",
              "    .dataframe tbody tr th:only-of-type {\n",
              "        vertical-align: middle;\n",
              "    }\n",
              "\n",
              "    .dataframe tbody tr th {\n",
              "        vertical-align: top;\n",
              "    }\n",
              "\n",
              "    .dataframe thead th {\n",
              "        text-align: right;\n",
              "    }\n",
              "</style>\n",
              "<table border=\"1\" class=\"dataframe\">\n",
              "  <thead>\n",
              "    <tr style=\"text-align: right;\">\n",
              "      <th></th>\n",
              "      <th>area_id</th>\n",
              "      <th>area_name</th>\n",
              "      <th>latitude</th>\n",
              "      <th>longitude</th>\n",
              "      <th>parameter_id</th>\n",
              "      <th>parameter_description</th>\n",
              "      <th>datetime</th>\n",
              "      <th>value_type</th>\n",
              "      <th>value_text</th>\n",
              "    </tr>\n",
              "  </thead>\n",
              "  <tbody>\n",
              "    <tr>\n",
              "      <th>0</th>\n",
              "      <td>501272</td>\n",
              "      <td>Bangkalan</td>\n",
              "      <td>-7.033333</td>\n",
              "      <td>112.7667</td>\n",
              "      <td>hu</td>\n",
              "      <td>Humidity</td>\n",
              "      <td>2024-06-27 00:00:00</td>\n",
              "      <td>NaN</td>\n",
              "      <td>90.0</td>\n",
              "    </tr>\n",
              "    <tr>\n",
              "      <th>1</th>\n",
              "      <td>501272</td>\n",
              "      <td>Bangkalan</td>\n",
              "      <td>-7.033333</td>\n",
              "      <td>112.7667</td>\n",
              "      <td>hu</td>\n",
              "      <td>Humidity</td>\n",
              "      <td>2024-06-27 06:00:00</td>\n",
              "      <td>NaN</td>\n",
              "      <td>70.0</td>\n",
              "    </tr>\n",
              "    <tr>\n",
              "      <th>2</th>\n",
              "      <td>501272</td>\n",
              "      <td>Bangkalan</td>\n",
              "      <td>-7.033333</td>\n",
              "      <td>112.7667</td>\n",
              "      <td>hu</td>\n",
              "      <td>Humidity</td>\n",
              "      <td>2024-06-27 12:00:00</td>\n",
              "      <td>NaN</td>\n",
              "      <td>85.0</td>\n",
              "    </tr>\n",
              "    <tr>\n",
              "      <th>3</th>\n",
              "      <td>501272</td>\n",
              "      <td>Bangkalan</td>\n",
              "      <td>-7.033333</td>\n",
              "      <td>112.7667</td>\n",
              "      <td>hu</td>\n",
              "      <td>Humidity</td>\n",
              "      <td>2024-06-27 18:00:00</td>\n",
              "      <td>NaN</td>\n",
              "      <td>90.0</td>\n",
              "    </tr>\n",
              "    <tr>\n",
              "      <th>4</th>\n",
              "      <td>501272</td>\n",
              "      <td>Bangkalan</td>\n",
              "      <td>-7.033333</td>\n",
              "      <td>112.7667</td>\n",
              "      <td>hu</td>\n",
              "      <td>Humidity</td>\n",
              "      <td>2024-06-28 00:00:00</td>\n",
              "      <td>NaN</td>\n",
              "      <td>70.0</td>\n",
              "    </tr>\n",
              "  </tbody>\n",
              "</table>\n",
              "</div>"
            ],
            "text/plain": [
              "   area_id  area_name  latitude  longitude parameter_id parameter_description  \\\n",
              "0   501272  Bangkalan -7.033333   112.7667           hu              Humidity   \n",
              "1   501272  Bangkalan -7.033333   112.7667           hu              Humidity   \n",
              "2   501272  Bangkalan -7.033333   112.7667           hu              Humidity   \n",
              "3   501272  Bangkalan -7.033333   112.7667           hu              Humidity   \n",
              "4   501272  Bangkalan -7.033333   112.7667           hu              Humidity   \n",
              "\n",
              "             datetime  value_type  value_text  \n",
              "0 2024-06-27 00:00:00         NaN        90.0  \n",
              "1 2024-06-27 06:00:00         NaN        70.0  \n",
              "2 2024-06-27 12:00:00         NaN        85.0  \n",
              "3 2024-06-27 18:00:00         NaN        90.0  \n",
              "4 2024-06-28 00:00:00         NaN        70.0  "
            ]
          },
          "execution_count": 385,
          "metadata": {},
          "output_type": "execute_result"
        }
      ],
      "source": [
        "# drop all rows that contain 'SSE'\n",
        "# df_weather = df_weather.drop(df_weather[(df_weather['value_text'] == 'SSE')].index)\n",
        "# df_weather = df_weather.drop(df_weather[(df_weather['value_text'] == 'SE')].index)\n",
        "# df_weather = df_weather.drop(df_weather[(df_weather['value_text'] == 'VARIABLE')].index)\n",
        "# df_weather['value_text'] = df_weather['value_text'].astype(float)\n",
        "# Fungsi untuk memeriksa apakah nilai bisa diubah menjadi float\n",
        "df_weather['value_text'] = pd.to_numeric(df_weather['value_text'], errors='coerce')\n",
        "df_weather.head()"
      ]
    },
    {
      "cell_type": "code",
      "execution_count": 386,
      "metadata": {
        "colab": {
          "base_uri": "https://localhost:8080/"
        },
        "id": "wKANE9RWg3Ie",
        "outputId": "42dd2b97-c2d9-43df-b4bb-c15294e24165"
      },
      "outputs": [
        {
          "name": "stdout",
          "output_type": "stream",
          "text": [
            "<class 'pandas.core.frame.DataFrame'>\n",
            "RangeIndex: 5700 entries, 0 to 5699\n",
            "Data columns (total 9 columns):\n",
            " #   Column                 Non-Null Count  Dtype         \n",
            "---  ------                 --------------  -----         \n",
            " 0   area_id                5700 non-null   int64         \n",
            " 1   area_name              5700 non-null   object        \n",
            " 2   latitude               5700 non-null   float64       \n",
            " 3   longitude              5700 non-null   float64       \n",
            " 4   parameter_id           5700 non-null   object        \n",
            " 5   parameter_description  5700 non-null   object        \n",
            " 6   datetime               5700 non-null   datetime64[ns]\n",
            " 7   value_type             0 non-null      float64       \n",
            " 8   value_text             5244 non-null   float64       \n",
            "dtypes: datetime64[ns](1), float64(4), int64(1), object(3)\n",
            "memory usage: 400.9+ KB\n"
          ]
        }
      ],
      "source": [
        "df_weather.info()"
      ]
    },
    {
      "cell_type": "code",
      "execution_count": 387,
      "metadata": {
        "id": "Ep3uPhWpg3Ie"
      },
      "outputs": [],
      "source": [
        "pivot_table = pd.pivot_table(df_weather, values='value_text', index=['area_name'], columns=['parameter_description'], aggfunc='std')"
      ]
    },
    {
      "cell_type": "markdown",
      "metadata": {
        "id": "xiZEnF3XsFla"
      },
      "source": [
        "#Insight"
      ]
    },
    {
      "cell_type": "code",
      "execution_count": 388,
      "metadata": {
        "colab": {
          "base_uri": "https://localhost:8080/"
        },
        "id": "1sLbj4Y0qimR",
        "outputId": "04d3317c-7479-4271-f050-76a796d5f06d"
      },
      "outputs": [
        {
          "name": "stdout",
          "output_type": "stream",
          "text": [
            "Area dengan variasi suhu tertinggi: Kota Madiun dengan standar deviasi 28.47\n",
            "Area dengan variasi kelembapan tertinggi: Kota Madiun dengan standar deviasi 15.35\n",
            "Area dengan variasi kecepatan angin tertinggi: Jember dengan standar deviasi 6.83\n",
            "Area dengan variasi arah angin tertinggi: Kota Kediri dengan standar deviasi 8307.77\n"
          ]
        }
      ],
      "source": [
        "# Insight 1: Area dengan variasi suhu tertinggi\n",
        "max_temp_variation_area = pivot_table['Temperature'].idxmax()\n",
        "max_temp_variation_value = pivot_table['Temperature'].max()\n",
        "print(f\"Area dengan variasi suhu tertinggi: {max_temp_variation_area} dengan standar deviasi {max_temp_variation_value:.2f}\")\n",
        "\n",
        "# Insight 2: Area dengan variasi kelembapan tertinggi\n",
        "if 'Humidity' in pivot_table.columns:\n",
        "    max_humidity_variation_area = pivot_table['Humidity'].idxmax()\n",
        "    max_humidity_variation_value = pivot_table['Humidity'].max()\n",
        "    print(f\"Area dengan variasi kelembapan tertinggi: {max_humidity_variation_area} dengan standar deviasi {max_humidity_variation_value:.2f}\")\n",
        "\n",
        "#insight 3: Area dengan variasi kecepatan angin tertinggi\n",
        "if 'Wind speed' in pivot_table.columns:\n",
        "    max_wind_speed_variation_area = pivot_table['Wind speed'].idxmax()\n",
        "    max_wind_speed_variation_value = pivot_table['Wind speed'].max()\n",
        "    print(f\"Area dengan variasi kecepatan angin tertinggi: {max_wind_speed_variation_area} dengan standar deviasi {max_wind_speed_variation_value:.2f}\")\n",
        "\n",
        "# insight 4: Area dengan variasi arah angin tertinggi\n",
        "if 'Wind direction' in pivot_table.columns:\n",
        "    max_wind_direction_variation_area = pivot_table['Wind direction'].idxmax()\n",
        "    max_wind_direction_variation_value = pivot_table['Wind direction'].max()\n",
        "    print(f\"Area dengan variasi arah angin tertinggi: {max_wind_direction_variation_area} dengan standar deviasi {max_wind_direction_variation_value:.2f}\")"
      ]
    },
    {
      "cell_type": "markdown",
      "metadata": {
        "id": "K09c97wTscFa"
      },
      "source": [
        "# Insight dalam bentuk Plot"
      ]
    },
    {
      "cell_type": "code",
      "execution_count": 389,
      "metadata": {
        "colab": {
          "base_uri": "https://localhost:8080/",
          "height": 1000
        },
        "id": "Bb-x6GwyseWW",
        "outputId": "ef2e9feb-aed2-4576-cf24-6856a4df2389"
      },
      "outputs": [
        {
          "data": {
            "image/png": "[encoded data removed]",
            "text/plain": [
              "<Figure size 2000x1500 with 9 Axes>"
            ]
          },
          "metadata": {},
          "output_type": "display_data"
        }
      ],
      "source": [
        "# Mengatur ukuran plot\n",
        "plt.figure(figsize=(20, 15))\n",
        "\n",
        "# Plotting untuk setiap parameter\n",
        "num_parameters = len(pivot_table.columns)\n",
        "rows = 2\n",
        "cols = (num_parameters + 1) // 2  # Menghitung kolom berdasarkan jumlah parameter\n",
        "\n",
        "for i, parameter in enumerate(pivot_table.columns):\n",
        "    plt.subplot(rows, cols, i+1)\n",
        "    sns.barplot(x=pivot_table.index, y=pivot_table[parameter], color='steelblue')\n",
        "    plt.title(f'Variasi {parameter} di Setiap Area')\n",
        "    plt.xlabel('Area')\n",
        "    plt.ylabel('Standar Deviasi')\n",
        "    plt.xticks(rotation=90)\n",
        "\n",
        "plt.tight_layout()\n",
        "plt.show()"
      ]
    },
    {
      "cell_type": "code",
      "execution_count": 390,
      "metadata": {
        "colab": {
          "base_uri": "https://localhost:8080/",
          "height": 677
        },
        "id": "xM6mYa8ig3If",
        "outputId": "4ab3002c-534f-427e-9c02-276cd98a2e76"
      },
      "outputs": [
        {
          "data": {
            "text/html": [
              "<div>\n",
              "<style scoped>\n",
              "    .dataframe tbody tr th:only-of-type {\n",
              "        vertical-align: middle;\n",
              "    }\n",
              "\n",
              "    .dataframe tbody tr th {\n",
              "        vertical-align: top;\n",
              "    }\n",
              "\n",
              "    .dataframe thead th {\n",
              "        text-align: right;\n",
              "    }\n",
              "</style>\n",
              "<table border=\"1\" class=\"dataframe\">\n",
              "  <thead>\n",
              "    <tr style=\"text-align: right;\">\n",
              "      <th></th>\n",
              "      <th>area_id</th>\n",
              "      <th>area_name</th>\n",
              "      <th>latitude</th>\n",
              "      <th>longitude</th>\n",
              "      <th>parameter_id</th>\n",
              "      <th>parameter_description</th>\n",
              "      <th>datetime</th>\n",
              "      <th>value_type</th>\n",
              "      <th>value_text</th>\n",
              "    </tr>\n",
              "  </thead>\n",
              "  <tbody>\n",
              "    <tr>\n",
              "      <th>5680</th>\n",
              "      <td>501309</td>\n",
              "      <td>Tulungagung</td>\n",
              "      <td>-8.0756</td>\n",
              "      <td>111.91587</td>\n",
              "      <td>ws</td>\n",
              "      <td>Wind speed</td>\n",
              "      <td>2024-06-28 18:00:00</td>\n",
              "      <td>NaN</td>\n",
              "      <td>5.000000</td>\n",
              "    </tr>\n",
              "    <tr>\n",
              "      <th>5681</th>\n",
              "      <td>501309</td>\n",
              "      <td>Tulungagung</td>\n",
              "      <td>-8.0756</td>\n",
              "      <td>111.91587</td>\n",
              "      <td>ws</td>\n",
              "      <td>Wind speed</td>\n",
              "      <td>2024-06-28 18:00:00</td>\n",
              "      <td>NaN</td>\n",
              "      <td>5.753897</td>\n",
              "    </tr>\n",
              "    <tr>\n",
              "      <th>5682</th>\n",
              "      <td>501309</td>\n",
              "      <td>Tulungagung</td>\n",
              "      <td>-8.0756</td>\n",
              "      <td>111.91587</td>\n",
              "      <td>ws</td>\n",
              "      <td>Wind speed</td>\n",
              "      <td>2024-06-28 18:00:00</td>\n",
              "      <td>NaN</td>\n",
              "      <td>9.260000</td>\n",
              "    </tr>\n",
              "    <tr>\n",
              "      <th>5683</th>\n",
              "      <td>501309</td>\n",
              "      <td>Tulungagung</td>\n",
              "      <td>-8.0756</td>\n",
              "      <td>111.91587</td>\n",
              "      <td>ws</td>\n",
              "      <td>Wind speed</td>\n",
              "      <td>2024-06-28 18:00:00</td>\n",
              "      <td>NaN</td>\n",
              "      <td>2.572222</td>\n",
              "    </tr>\n",
              "    <tr>\n",
              "      <th>5684</th>\n",
              "      <td>501309</td>\n",
              "      <td>Tulungagung</td>\n",
              "      <td>-8.0756</td>\n",
              "      <td>111.91587</td>\n",
              "      <td>ws</td>\n",
              "      <td>Wind speed</td>\n",
              "      <td>2024-06-29 00:00:00</td>\n",
              "      <td>NaN</td>\n",
              "      <td>10.000000</td>\n",
              "    </tr>\n",
              "    <tr>\n",
              "      <th>5685</th>\n",
              "      <td>501309</td>\n",
              "      <td>Tulungagung</td>\n",
              "      <td>-8.0756</td>\n",
              "      <td>111.91587</td>\n",
              "      <td>ws</td>\n",
              "      <td>Wind speed</td>\n",
              "      <td>2024-06-29 00:00:00</td>\n",
              "      <td>NaN</td>\n",
              "      <td>11.507794</td>\n",
              "    </tr>\n",
              "    <tr>\n",
              "      <th>5686</th>\n",
              "      <td>501309</td>\n",
              "      <td>Tulungagung</td>\n",
              "      <td>-8.0756</td>\n",
              "      <td>111.91587</td>\n",
              "      <td>ws</td>\n",
              "      <td>Wind speed</td>\n",
              "      <td>2024-06-29 00:00:00</td>\n",
              "      <td>NaN</td>\n",
              "      <td>18.520000</td>\n",
              "    </tr>\n",
              "    <tr>\n",
              "      <th>5687</th>\n",
              "      <td>501309</td>\n",
              "      <td>Tulungagung</td>\n",
              "      <td>-8.0756</td>\n",
              "      <td>111.91587</td>\n",
              "      <td>ws</td>\n",
              "      <td>Wind speed</td>\n",
              "      <td>2024-06-29 00:00:00</td>\n",
              "      <td>NaN</td>\n",
              "      <td>5.144444</td>\n",
              "    </tr>\n",
              "    <tr>\n",
              "      <th>5688</th>\n",
              "      <td>501309</td>\n",
              "      <td>Tulungagung</td>\n",
              "      <td>-8.0756</td>\n",
              "      <td>111.91587</td>\n",
              "      <td>ws</td>\n",
              "      <td>Wind speed</td>\n",
              "      <td>2024-06-29 06:00:00</td>\n",
              "      <td>NaN</td>\n",
              "      <td>15.000000</td>\n",
              "    </tr>\n",
              "    <tr>\n",
              "      <th>5689</th>\n",
              "      <td>501309</td>\n",
              "      <td>Tulungagung</td>\n",
              "      <td>-8.0756</td>\n",
              "      <td>111.91587</td>\n",
              "      <td>ws</td>\n",
              "      <td>Wind speed</td>\n",
              "      <td>2024-06-29 06:00:00</td>\n",
              "      <td>NaN</td>\n",
              "      <td>17.261692</td>\n",
              "    </tr>\n",
              "    <tr>\n",
              "      <th>5690</th>\n",
              "      <td>501309</td>\n",
              "      <td>Tulungagung</td>\n",
              "      <td>-8.0756</td>\n",
              "      <td>111.91587</td>\n",
              "      <td>ws</td>\n",
              "      <td>Wind speed</td>\n",
              "      <td>2024-06-29 06:00:00</td>\n",
              "      <td>NaN</td>\n",
              "      <td>27.780000</td>\n",
              "    </tr>\n",
              "    <tr>\n",
              "      <th>5691</th>\n",
              "      <td>501309</td>\n",
              "      <td>Tulungagung</td>\n",
              "      <td>-8.0756</td>\n",
              "      <td>111.91587</td>\n",
              "      <td>ws</td>\n",
              "      <td>Wind speed</td>\n",
              "      <td>2024-06-29 06:00:00</td>\n",
              "      <td>NaN</td>\n",
              "      <td>7.716667</td>\n",
              "    </tr>\n",
              "    <tr>\n",
              "      <th>5692</th>\n",
              "      <td>501309</td>\n",
              "      <td>Tulungagung</td>\n",
              "      <td>-8.0756</td>\n",
              "      <td>111.91587</td>\n",
              "      <td>ws</td>\n",
              "      <td>Wind speed</td>\n",
              "      <td>2024-06-29 12:00:00</td>\n",
              "      <td>NaN</td>\n",
              "      <td>10.000000</td>\n",
              "    </tr>\n",
              "    <tr>\n",
              "      <th>5693</th>\n",
              "      <td>501309</td>\n",
              "      <td>Tulungagung</td>\n",
              "      <td>-8.0756</td>\n",
              "      <td>111.91587</td>\n",
              "      <td>ws</td>\n",
              "      <td>Wind speed</td>\n",
              "      <td>2024-06-29 12:00:00</td>\n",
              "      <td>NaN</td>\n",
              "      <td>11.507794</td>\n",
              "    </tr>\n",
              "    <tr>\n",
              "      <th>5694</th>\n",
              "      <td>501309</td>\n",
              "      <td>Tulungagung</td>\n",
              "      <td>-8.0756</td>\n",
              "      <td>111.91587</td>\n",
              "      <td>ws</td>\n",
              "      <td>Wind speed</td>\n",
              "      <td>2024-06-29 12:00:00</td>\n",
              "      <td>NaN</td>\n",
              "      <td>18.520000</td>\n",
              "    </tr>\n",
              "    <tr>\n",
              "      <th>5695</th>\n",
              "      <td>501309</td>\n",
              "      <td>Tulungagung</td>\n",
              "      <td>-8.0756</td>\n",
              "      <td>111.91587</td>\n",
              "      <td>ws</td>\n",
              "      <td>Wind speed</td>\n",
              "      <td>2024-06-29 12:00:00</td>\n",
              "      <td>NaN</td>\n",
              "      <td>5.144444</td>\n",
              "    </tr>\n",
              "    <tr>\n",
              "      <th>5696</th>\n",
              "      <td>501309</td>\n",
              "      <td>Tulungagung</td>\n",
              "      <td>-8.0756</td>\n",
              "      <td>111.91587</td>\n",
              "      <td>ws</td>\n",
              "      <td>Wind speed</td>\n",
              "      <td>2024-06-29 18:00:00</td>\n",
              "      <td>NaN</td>\n",
              "      <td>2.000000</td>\n",
              "    </tr>\n",
              "    <tr>\n",
              "      <th>5697</th>\n",
              "      <td>501309</td>\n",
              "      <td>Tulungagung</td>\n",
              "      <td>-8.0756</td>\n",
              "      <td>111.91587</td>\n",
              "      <td>ws</td>\n",
              "      <td>Wind speed</td>\n",
              "      <td>2024-06-29 18:00:00</td>\n",
              "      <td>NaN</td>\n",
              "      <td>2.301559</td>\n",
              "    </tr>\n",
              "    <tr>\n",
              "      <th>5698</th>\n",
              "      <td>501309</td>\n",
              "      <td>Tulungagung</td>\n",
              "      <td>-8.0756</td>\n",
              "      <td>111.91587</td>\n",
              "      <td>ws</td>\n",
              "      <td>Wind speed</td>\n",
              "      <td>2024-06-29 18:00:00</td>\n",
              "      <td>NaN</td>\n",
              "      <td>3.704000</td>\n",
              "    </tr>\n",
              "    <tr>\n",
              "      <th>5699</th>\n",
              "      <td>501309</td>\n",
              "      <td>Tulungagung</td>\n",
              "      <td>-8.0756</td>\n",
              "      <td>111.91587</td>\n",
              "      <td>ws</td>\n",
              "      <td>Wind speed</td>\n",
              "      <td>2024-06-29 18:00:00</td>\n",
              "      <td>NaN</td>\n",
              "      <td>1.028889</td>\n",
              "    </tr>\n",
              "  </tbody>\n",
              "</table>\n",
              "</div>"
            ],
            "text/plain": [
              "      area_id    area_name  latitude  longitude parameter_id  \\\n",
              "5680   501309  Tulungagung   -8.0756  111.91587           ws   \n",
              "5681   501309  Tulungagung   -8.0756  111.91587           ws   \n",
              "5682   501309  Tulungagung   -8.0756  111.91587           ws   \n",
              "5683   501309  Tulungagung   -8.0756  111.91587           ws   \n",
              "5684   501309  Tulungagung   -8.0756  111.91587           ws   \n",
              "5685   501309  Tulungagung   -8.0756  111.91587           ws   \n",
              "5686   501309  Tulungagung   -8.0756  111.91587           ws   \n",
              "5687   501309  Tulungagung   -8.0756  111.91587           ws   \n",
              "5688   501309  Tulungagung   -8.0756  111.91587           ws   \n",
              "5689   501309  Tulungagung   -8.0756  111.91587           ws   \n",
              "5690   501309  Tulungagung   -8.0756  111.91587           ws   \n",
              "5691   501309  Tulungagung   -8.0756  111.91587           ws   \n",
              "5692   501309  Tulungagung   -8.0756  111.91587           ws   \n",
              "5693   501309  Tulungagung   -8.0756  111.91587           ws   \n",
              "5694   501309  Tulungagung   -8.0756  111.91587           ws   \n",
              "5695   501309  Tulungagung   -8.0756  111.91587           ws   \n",
              "5696   501309  Tulungagung   -8.0756  111.91587           ws   \n",
              "5697   501309  Tulungagung   -8.0756  111.91587           ws   \n",
              "5698   501309  Tulungagung   -8.0756  111.91587           ws   \n",
              "5699   501309  Tulungagung   -8.0756  111.91587           ws   \n",
              "\n",
              "     parameter_description            datetime  value_type  value_text  \n",
              "5680            Wind speed 2024-06-28 18:00:00         NaN    5.000000  \n",
              "5681            Wind speed 2024-06-28 18:00:00         NaN    5.753897  \n",
              "5682            Wind speed 2024-06-28 18:00:00         NaN    9.260000  \n",
              "5683            Wind speed 2024-06-28 18:00:00         NaN    2.572222  \n",
              "5684            Wind speed 2024-06-29 00:00:00         NaN   10.000000  \n",
              "5685            Wind speed 2024-06-29 00:00:00         NaN   11.507794  \n",
              "5686            Wind speed 2024-06-29 00:00:00         NaN   18.520000  \n",
              "5687            Wind speed 2024-06-29 00:00:00         NaN    5.144444  \n",
              "5688            Wind speed 2024-06-29 06:00:00         NaN   15.000000  \n",
              "5689            Wind speed 2024-06-29 06:00:00         NaN   17.261692  \n",
              "5690            Wind speed 2024-06-29 06:00:00         NaN   27.780000  \n",
              "5691            Wind speed 2024-06-29 06:00:00         NaN    7.716667  \n",
              "5692            Wind speed 2024-06-29 12:00:00         NaN   10.000000  \n",
              "5693            Wind speed 2024-06-29 12:00:00         NaN   11.507794  \n",
              "5694            Wind speed 2024-06-29 12:00:00         NaN   18.520000  \n",
              "5695            Wind speed 2024-06-29 12:00:00         NaN    5.144444  \n",
              "5696            Wind speed 2024-06-29 18:00:00         NaN    2.000000  \n",
              "5697            Wind speed 2024-06-29 18:00:00         NaN    2.301559  \n",
              "5698            Wind speed 2024-06-29 18:00:00         NaN    3.704000  \n",
              "5699            Wind speed 2024-06-29 18:00:00         NaN    1.028889  "
            ]
          },
          "execution_count": 390,
          "metadata": {},
          "output_type": "execute_result"
        }
      ],
      "source": [
        "df_weather.tail(20)"
      ]
    },
    {
      "cell_type": "code",
      "execution_count": 402,
      "metadata": {
        "colab": {
          "base_uri": "https://localhost:8080/",
          "height": 424
        },
        "id": "78sqGhYSg3If",
        "outputId": "0407a4ed-8a93-4d8e-f471-26f8ade689e0"
      },
      "outputs": [
        {
          "data": {
            "text/plain": [
              "52.866666666666674"
            ]
          },
          "execution_count": 402,
          "metadata": {},
          "output_type": "execute_result"
        }
      ],
      "source": [
        "# Temperature\n",
        "temperature = df_weather[df_weather['parameter_description'] == \"Temperature\"]\n",
        "temperature = temperature[['area_name', 'value_text']]\n",
        "temperature = temperature[(temperature['area_name'] == 'Tulungagung') & (temperature['value_text'])]\n",
        "temperature = temperature['value_text'].mean()\n",
        "temperature\n",
        "# df_filtered = df[(df['area_name'] == area_name) & (df['parameter_description'] == parameter_description)]"
      ]
    },
    {
      "cell_type": "code",
      "execution_count": null,
      "metadata": {
        "colab": {
          "base_uri": "https://localhost:8080/",
          "height": 424
        },
        "id": "FnQdlh5-g3If",
        "outputId": "330b6113-a389-431b-eda7-d6754bb67b09"
      },
      "outputs": [
        {
          "data": {
            "text/html": [
              "<div>\n",
              "<style scoped>\n",
              "    .dataframe tbody tr th:only-of-type {\n",
              "        vertical-align: middle;\n",
              "    }\n",
              "\n",
              "    .dataframe tbody tr th {\n",
              "        vertical-align: top;\n",
              "    }\n",
              "\n",
              "    .dataframe thead th {\n",
              "        text-align: right;\n",
              "    }\n",
              "</style>\n",
              "<table border=\"1\" class=\"dataframe\">\n",
              "  <thead>\n",
              "    <tr style=\"text-align: right;\">\n",
              "      <th></th>\n",
              "      <th>area_name</th>\n",
              "      <th>weather</th>\n",
              "    </tr>\n",
              "  </thead>\n",
              "  <tbody>\n",
              "    <tr>\n",
              "      <th>54</th>\n",
              "      <td>Bangkalan</td>\n",
              "      <td>1.0</td>\n",
              "    </tr>\n",
              "    <tr>\n",
              "      <th>55</th>\n",
              "      <td>Bangkalan</td>\n",
              "      <td>3.0</td>\n",
              "    </tr>\n",
              "    <tr>\n",
              "      <th>56</th>\n",
              "      <td>Bangkalan</td>\n",
              "      <td>1.0</td>\n",
              "    </tr>\n",
              "    <tr>\n",
              "      <th>57</th>\n",
              "      <td>Bangkalan</td>\n",
              "      <td>1.0</td>\n",
              "    </tr>\n",
              "    <tr>\n",
              "      <th>58</th>\n",
              "      <td>Bangkalan</td>\n",
              "      <td>0.0</td>\n",
              "    </tr>\n",
              "  </tbody>\n",
              "</table>\n",
              "</div>"
            ],
            "text/plain": [
              "    area_name  weather\n",
              "54  Bangkalan      1.0\n",
              "55  Bangkalan      3.0\n",
              "56  Bangkalan      1.0\n",
              "57  Bangkalan      1.0\n",
              "58  Bangkalan      0.0"
            ]
          },
          "execution_count": 359,
          "metadata": {},
          "output_type": "execute_result"
        }
      ],
      "source": [
        "# Weather\n",
        "weather = df_weather[df_weather['parameter_description'] == \"Weather\"]\n",
        "weather = weather[['area_name','parameter_description', 'value_text']]\n",
        "weather = weather.drop(['parameter_description'], axis=1)\n",
        "weather = weather.rename(columns={'value_text':'weather'})\n",
        "weather.head()"
      ]
    },
    {
      "cell_type": "code",
      "execution_count": null,
      "metadata": {
        "colab": {
          "base_uri": "https://localhost:8080/"
        },
        "id": "2n-QUIXlg3Ig",
        "outputId": "347b89d1-0822-4411-fec7-167803911d91"
      },
      "outputs": [
        {
          "data": {
            "text/plain": [
              "weather\n",
              "1.0     249\n",
              "3.0     122\n",
              "0.0      41\n",
              "60.0     18\n",
              "45.0     14\n",
              "4.0       8\n",
              "95.0      4\n",
              "Name: count, dtype: int64"
            ]
          },
          "execution_count": 360,
          "metadata": {},
          "output_type": "execute_result"
        }
      ],
      "source": [
        "weather['weather'].value_counts() # 0 = Cerah, 1 = Cerah Berawan, 3 = Berawan, 45 = Kabut, 60 = Hujan Ringan"
      ]
    },
    {
      "cell_type": "code",
      "execution_count": null,
      "metadata": {
        "colab": {
          "base_uri": "https://localhost:8080/",
          "height": 467
        },
        "id": "6xOX_ETOg3Ig",
        "outputId": "abce5fd7-e097-4fd2-d81a-543ee60a6ab7"
      },
      "outputs": [
        {
          "data": {
            "text/plain": [
              "<Axes: xlabel='weather', ylabel='count'>"
            ]
          },
          "execution_count": 361,
          "metadata": {},
          "output_type": "execute_result"
        },
        {
          "data": {
            "image/png": "[encoded data removed]",
            "text/plain": [
              "<Figure size 640x480 with 1 Axes>"
            ]
          },
          "metadata": {},
          "output_type": "display_data"
        }
      ],
      "source": [
        "sns.countplot(data=weather,x='weather')"
      ]
    },
    {
      "cell_type": "code",
      "execution_count": null,
      "metadata": {},
      "outputs": [
        {
          "data": {
            "text/plain": [
              "(456, 2)"
            ]
          },
          "execution_count": 362,
          "metadata": {},
          "output_type": "execute_result"
        }
      ],
      "source": [
        "weather.shape"
      ]
    },
    {
      "cell_type": "code",
      "execution_count": null,
      "metadata": {},
      "outputs": [
        {
          "data": {
            "text/html": [
              "<div>\n",
              "<style scoped>\n",
              "    .dataframe tbody tr th:only-of-type {\n",
              "        vertical-align: middle;\n",
              "    }\n",
              "\n",
              "    .dataframe tbody tr th {\n",
              "        vertical-align: top;\n",
              "    }\n",
              "\n",
              "    .dataframe thead th {\n",
              "        text-align: right;\n",
              "    }\n",
              "</style>\n",
              "<table border=\"1\" class=\"dataframe\">\n",
              "  <thead>\n",
              "    <tr style=\"text-align: right;\">\n",
              "      <th></th>\n",
              "      <th>area_name</th>\n",
              "      <th>humidity</th>\n",
              "    </tr>\n",
              "  </thead>\n",
              "  <tbody>\n",
              "    <tr>\n",
              "      <th>0</th>\n",
              "      <td>Bangkalan</td>\n",
              "      <td>90.0</td>\n",
              "    </tr>\n",
              "    <tr>\n",
              "      <th>1</th>\n",
              "      <td>Bangkalan</td>\n",
              "      <td>70.0</td>\n",
              "    </tr>\n",
              "    <tr>\n",
              "      <th>2</th>\n",
              "      <td>Bangkalan</td>\n",
              "      <td>85.0</td>\n",
              "    </tr>\n",
              "    <tr>\n",
              "      <th>3</th>\n",
              "      <td>Bangkalan</td>\n",
              "      <td>90.0</td>\n",
              "    </tr>\n",
              "    <tr>\n",
              "      <th>4</th>\n",
              "      <td>Bangkalan</td>\n",
              "      <td>70.0</td>\n",
              "    </tr>\n",
              "  </tbody>\n",
              "</table>\n",
              "</div>"
            ],
            "text/plain": [
              "   area_name  humidity\n",
              "0  Bangkalan      90.0\n",
              "1  Bangkalan      70.0\n",
              "2  Bangkalan      85.0\n",
              "3  Bangkalan      90.0\n",
              "4  Bangkalan      70.0"
            ]
          },
          "execution_count": 363,
          "metadata": {},
          "output_type": "execute_result"
        }
      ],
      "source": [
        "# Humidity\n",
        "humidity = df_weather[df_weather['parameter_description'] == \"Humidity\"]\n",
        "humidity = humidity[['area_name','parameter_description', 'value_text']]\n",
        "humidity = humidity.drop(['parameter_description'], axis=1)\n",
        "humidity = humidity.rename(columns={'value_text':'humidity'})\n",
        "humidity.head()"
      ]
    },
    {
      "cell_type": "code",
      "execution_count": null,
      "metadata": {},
      "outputs": [
        {
          "data": {
            "text/plain": [
              "(456, 2)"
            ]
          },
          "execution_count": 364,
          "metadata": {},
          "output_type": "execute_result"
        }
      ],
      "source": [
        "humidity.shape"
      ]
    },
    {
      "cell_type": "code",
      "execution_count": null,
      "metadata": {},
      "outputs": [
        {
          "data": {
            "text/html": [
              "<div>\n",
              "<style scoped>\n",
              "    .dataframe tbody tr th:only-of-type {\n",
              "        vertical-align: middle;\n",
              "    }\n",
              "\n",
              "    .dataframe tbody tr th {\n",
              "        vertical-align: top;\n",
              "    }\n",
              "\n",
              "    .dataframe thead th {\n",
              "        text-align: right;\n",
              "    }\n",
              "</style>\n",
              "<table border=\"1\" class=\"dataframe\">\n",
              "  <thead>\n",
              "    <tr style=\"text-align: right;\">\n",
              "      <th></th>\n",
              "      <th>area_name</th>\n",
              "      <th>min_temp</th>\n",
              "    </tr>\n",
              "  </thead>\n",
              "  <tbody>\n",
              "    <tr>\n",
              "      <th>24</th>\n",
              "      <td>Bangkalan</td>\n",
              "      <td>25.0</td>\n",
              "    </tr>\n",
              "    <tr>\n",
              "      <th>25</th>\n",
              "      <td>Bangkalan</td>\n",
              "      <td>77.0</td>\n",
              "    </tr>\n",
              "    <tr>\n",
              "      <th>26</th>\n",
              "      <td>Bangkalan</td>\n",
              "      <td>25.0</td>\n",
              "    </tr>\n",
              "    <tr>\n",
              "      <th>27</th>\n",
              "      <td>Bangkalan</td>\n",
              "      <td>77.0</td>\n",
              "    </tr>\n",
              "    <tr>\n",
              "      <th>28</th>\n",
              "      <td>Bangkalan</td>\n",
              "      <td>25.0</td>\n",
              "    </tr>\n",
              "  </tbody>\n",
              "</table>\n",
              "</div>"
            ],
            "text/plain": [
              "    area_name  min_temp\n",
              "24  Bangkalan      25.0\n",
              "25  Bangkalan      77.0\n",
              "26  Bangkalan      25.0\n",
              "27  Bangkalan      77.0\n",
              "28  Bangkalan      25.0"
            ]
          },
          "execution_count": 365,
          "metadata": {},
          "output_type": "execute_result"
        }
      ],
      "source": [
        "# MinTemp\n",
        "min_temp = df_weather[df_weather['parameter_description'] == \"Min temperature\"]\n",
        "min_temp = min_temp[['area_name','parameter_description', 'value_text']]\n",
        "min_temp = min_temp.drop(['parameter_description'], axis=1)\n",
        "min_temp = min_temp.rename(columns={'value_text':'min_temp'})\n",
        "min_temp.head()"
      ]
    },
    {
      "cell_type": "code",
      "execution_count": null,
      "metadata": {},
      "outputs": [
        {
          "data": {
            "text/html": [
              "<div>\n",
              "<style scoped>\n",
              "    .dataframe tbody tr th:only-of-type {\n",
              "        vertical-align: middle;\n",
              "    }\n",
              "\n",
              "    .dataframe tbody tr th {\n",
              "        vertical-align: top;\n",
              "    }\n",
              "\n",
              "    .dataframe thead th {\n",
              "        text-align: right;\n",
              "    }\n",
              "</style>\n",
              "<table border=\"1\" class=\"dataframe\">\n",
              "  <thead>\n",
              "    <tr style=\"text-align: right;\">\n",
              "      <th></th>\n",
              "      <th>area_name</th>\n",
              "      <th>max_temp</th>\n",
              "    </tr>\n",
              "  </thead>\n",
              "  <tbody>\n",
              "    <tr>\n",
              "      <th>15</th>\n",
              "      <td>Bangkalan</td>\n",
              "      <td>31.0</td>\n",
              "    </tr>\n",
              "    <tr>\n",
              "      <th>16</th>\n",
              "      <td>Bangkalan</td>\n",
              "      <td>87.8</td>\n",
              "    </tr>\n",
              "    <tr>\n",
              "      <th>17</th>\n",
              "      <td>Bangkalan</td>\n",
              "      <td>33.0</td>\n",
              "    </tr>\n",
              "    <tr>\n",
              "      <th>18</th>\n",
              "      <td>Bangkalan</td>\n",
              "      <td>91.4</td>\n",
              "    </tr>\n",
              "    <tr>\n",
              "      <th>19</th>\n",
              "      <td>Bangkalan</td>\n",
              "      <td>33.0</td>\n",
              "    </tr>\n",
              "  </tbody>\n",
              "</table>\n",
              "</div>"
            ],
            "text/plain": [
              "    area_name  max_temp\n",
              "15  Bangkalan      31.0\n",
              "16  Bangkalan      87.8\n",
              "17  Bangkalan      33.0\n",
              "18  Bangkalan      91.4\n",
              "19  Bangkalan      33.0"
            ]
          },
          "execution_count": 366,
          "metadata": {},
          "output_type": "execute_result"
        }
      ],
      "source": [
        "# MaxTemp\n",
        "max_temp = df_weather[df_weather['parameter_description'] == \"Max temperature\"]\n",
        "max_temp = max_temp[['area_name','parameter_description', 'value_text']]\n",
        "max_temp = max_temp.drop(['parameter_description'], axis=1)\n",
        "max_temp = max_temp.rename(columns={'value_text':'max_temp'})\n",
        "max_temp.head()"
      ]
    },
    {
      "cell_type": "code",
      "execution_count": null,
      "metadata": {},
      "outputs": [
        {
          "data": {
            "text/html": [
              "<div>\n",
              "<style scoped>\n",
              "    .dataframe tbody tr th:only-of-type {\n",
              "        vertical-align: middle;\n",
              "    }\n",
              "\n",
              "    .dataframe tbody tr th {\n",
              "        vertical-align: top;\n",
              "    }\n",
              "\n",
              "    .dataframe thead th {\n",
              "        text-align: right;\n",
              "    }\n",
              "</style>\n",
              "<table border=\"1\" class=\"dataframe\">\n",
              "  <thead>\n",
              "    <tr style=\"text-align: right;\">\n",
              "      <th></th>\n",
              "      <th>area_name</th>\n",
              "      <th>humidity</th>\n",
              "      <th>min_temp</th>\n",
              "      <th>max_temp</th>\n",
              "      <th>weather</th>\n",
              "    </tr>\n",
              "  </thead>\n",
              "  <tbody>\n",
              "    <tr>\n",
              "      <th>0</th>\n",
              "      <td>Bangkalan</td>\n",
              "      <td>90.0</td>\n",
              "      <td>NaN</td>\n",
              "      <td>NaN</td>\n",
              "      <td>NaN</td>\n",
              "    </tr>\n",
              "    <tr>\n",
              "      <th>1</th>\n",
              "      <td>Bangkalan</td>\n",
              "      <td>70.0</td>\n",
              "      <td>NaN</td>\n",
              "      <td>NaN</td>\n",
              "      <td>NaN</td>\n",
              "    </tr>\n",
              "    <tr>\n",
              "      <th>2</th>\n",
              "      <td>Bangkalan</td>\n",
              "      <td>85.0</td>\n",
              "      <td>NaN</td>\n",
              "      <td>NaN</td>\n",
              "      <td>NaN</td>\n",
              "    </tr>\n",
              "    <tr>\n",
              "      <th>3</th>\n",
              "      <td>Bangkalan</td>\n",
              "      <td>90.0</td>\n",
              "      <td>NaN</td>\n",
              "      <td>NaN</td>\n",
              "      <td>NaN</td>\n",
              "    </tr>\n",
              "    <tr>\n",
              "      <th>4</th>\n",
              "      <td>Bangkalan</td>\n",
              "      <td>70.0</td>\n",
              "      <td>NaN</td>\n",
              "      <td>NaN</td>\n",
              "      <td>NaN</td>\n",
              "    </tr>\n",
              "    <tr>\n",
              "      <th>...</th>\n",
              "      <td>...</td>\n",
              "      <td>...</td>\n",
              "      <td>...</td>\n",
              "      <td>...</td>\n",
              "      <td>...</td>\n",
              "    </tr>\n",
              "    <tr>\n",
              "      <th>5557</th>\n",
              "      <td>Tulungagung</td>\n",
              "      <td>90.0</td>\n",
              "      <td>NaN</td>\n",
              "      <td>NaN</td>\n",
              "      <td>NaN</td>\n",
              "    </tr>\n",
              "    <tr>\n",
              "      <th>5558</th>\n",
              "      <td>Tulungagung</td>\n",
              "      <td>80.0</td>\n",
              "      <td>NaN</td>\n",
              "      <td>NaN</td>\n",
              "      <td>NaN</td>\n",
              "    </tr>\n",
              "    <tr>\n",
              "      <th>5559</th>\n",
              "      <td>Tulungagung</td>\n",
              "      <td>65.0</td>\n",
              "      <td>NaN</td>\n",
              "      <td>NaN</td>\n",
              "      <td>NaN</td>\n",
              "    </tr>\n",
              "    <tr>\n",
              "      <th>5560</th>\n",
              "      <td>Tulungagung</td>\n",
              "      <td>75.0</td>\n",
              "      <td>NaN</td>\n",
              "      <td>NaN</td>\n",
              "      <td>NaN</td>\n",
              "    </tr>\n",
              "    <tr>\n",
              "      <th>5561</th>\n",
              "      <td>Tulungagung</td>\n",
              "      <td>90.0</td>\n",
              "      <td>NaN</td>\n",
              "      <td>NaN</td>\n",
              "      <td>NaN</td>\n",
              "    </tr>\n",
              "  </tbody>\n",
              "</table>\n",
              "<p>456 rows × 5 columns</p>\n",
              "</div>"
            ],
            "text/plain": [
              "        area_name  humidity  min_temp  max_temp  weather\n",
              "0       Bangkalan      90.0       NaN       NaN      NaN\n",
              "1       Bangkalan      70.0       NaN       NaN      NaN\n",
              "2       Bangkalan      85.0       NaN       NaN      NaN\n",
              "3       Bangkalan      90.0       NaN       NaN      NaN\n",
              "4       Bangkalan      70.0       NaN       NaN      NaN\n",
              "...           ...       ...       ...       ...      ...\n",
              "5557  Tulungagung      90.0       NaN       NaN      NaN\n",
              "5558  Tulungagung      80.0       NaN       NaN      NaN\n",
              "5559  Tulungagung      65.0       NaN       NaN      NaN\n",
              "5560  Tulungagung      75.0       NaN       NaN      NaN\n",
              "5561  Tulungagung      90.0       NaN       NaN      NaN\n",
              "\n",
              "[456 rows x 5 columns]"
            ]
          },
          "execution_count": 367,
          "metadata": {},
          "output_type": "execute_result"
        }
      ],
      "source": [
        "data = [humidity,min_temp,max_temp,weather]\n",
        "max_rows_df = max(data, key=lambda df: len(df))\n",
        "\n",
        "new_weather_df = pd.concat(data, axis=0, join='outer')\n",
        "df_adjusted_weather = new_weather_df.iloc[:len(max_rows_df)]\n",
        "df_adjusted_weather"
      ]
    }
  ],
  "metadata": {
    "colab": {
      "provenance": []
    },
    "kernelspec": {
      "display_name": "Python 3",
      "language": "python",
      "name": "python3"
    },
    "language_info": {
      "codemirror_mode": {
        "name": "ipython",
        "version": 3
      },
      "file_extension": ".py",
      "mimetype": "text/x-python",
      "name": "python",
      "nbconvert_exporter": "python",
      "pygments_lexer": "ipython3",
      "version": "3.9.0"
    }
  },
  "nbformat": 4,
  "nbformat_minor": 0
}
